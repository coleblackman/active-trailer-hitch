{
 "cells": [
  {
   "cell_type": "markdown",
   "metadata": {},
   "source": [
    "# Truck/Trailer Simulation in BeamNG\n",
    "\n",
    "## Cole Blackman"
   ]
  },
  {
   "cell_type": "markdown",
   "metadata": {},
   "source": [
    "## Setup"
   ]
  },
  {
   "cell_type": "code",
   "execution_count": 3,
   "metadata": {},
   "outputs": [],
   "source": [
    "%matplotlib inline\n",
    "import time\n",
    "import matplotlib.pyplot as plt\n",
    "import numpy as np \n",
    "import seaborn as sns\n",
    "from beamngpy import BeamNGpy, Scenario, Vehicle, angle_to_quat\n",
    "from beamngpy.sensors import Electrics\n",
    "sns.set() "
   ]
  },
  {
   "cell_type": "markdown",
   "metadata": {},
   "source": [
    "## Generate scenario\n",
    "\n",
    "Only need to load beamng.tech and verify the license key once! Meshes must be loaded iteratively"
   ]
  },
  {
   "cell_type": "code",
   "execution_count": 8,
   "metadata": {},
   "outputs": [
    {
     "name": "stdout",
     "output_type": "stream",
     "text": [
      "data: {'type': 'GetAvailableVehicles'}\n",
      "['atv', 'autobello', 'ball', 'barrels', 'barrier', 'barrier_plastic', 'barstow', 'bastion', 'blockwall', 'bluebuck', 'bolide', 'bollard', 'boxutility', 'boxutility_large', 'burnside', 'cannon', 'caravan', 'cardboard_box', 'cargotrailer', 'chair', 'christmas_tree', 'citybus', 'cones', 'containerTrailer', 'couch', 'coupe', 'covet', 'delineator', 'dolly', 'dryvan', 'engine_props', 'etk800', 'etkc', 'etki', 'flail', 'flatbed', 'flipramp', 'frameless_dump', 'fridge', 'fullsize', 'gate', 'haybale', 'hitchswaytruck', 'hopper', 'inflated_mat', 'kickplate', 'lansdale', 'large_angletester', 'large_bridge', 'large_cannon', 'large_crusher', 'large_hamster_wheel', 'large_roller', 'large_spinner', 'large_tilt', 'large_tire', 'legran', 'mattress', 'metal_box', 'metal_ramp', 'midsize', 'midtruck', 'miramar', 'moonhawk', 'pessima', 'piano', 'pickup', 'pigeon', 'porta_potty', 'racetruck', 'roadsigns', 'roamer', 'rockbouncer', 'rocks', 'rollover', 'sawhorse', 'sbr', 'scintilla', 'shipping_container', 'streetlight', 'sunburst', 'suspensionbridge', 'tanker', 'testroller', 'tiltdeck', 'tirestacks', 'tirewall', 'trafficbarrel', 'tsfb', 'tub', 'tube', 'tutorial', 'tv', 'unicycle', 'us_semi', 'utv', 'van', 'vivace', 'wall', 'weightpad', 'wendover', 'wigeon', 'woodcrate', 'woodplanks']\n",
      "['Cliff', 'Industrial', 'Utah', 'automation_test_track', 'autotest', 'derby', 'driver_training', 'east_coast_usa', 'garage_v2', 'glow_city', 'gridmap_v2', 'hirochi_raceway', 'italy', 'johnson_valley', 'jungle_rock_island', 'showroom_v2', 'small_island', 'smallgrid', 'template', 'template_tech', 'west_coast_usa']\n"
     ]
    }
   ],
   "source": [
    "beamng = BeamNGpy('localhost', 64256, './BeamNG.tech.v0.31.3.0(1)/BeamNG.tech.v0.31.3.0', None, \"/Users/coleb/AppData/Local/BeamNG.tech\")\n",
    "beamng.open()\n",
    "vehicles = beamng.vehicles.get_available()['vehicles']\n",
    "print(list(sorted(vehicles.keys())))\n",
    "\n",
    "scenarios = beamng.scenario.get_levels()\n",
    "print(list(sorted(scenarios.keys())))\n",
    "# add a truck\n",
    "truck = Vehicle('ego', model='pickup', license='TRACTOR', color='White')\n",
    "trailer = Vehicle('trailer', model='cargotrailer')\n",
    "# add a sensor to the truck using Electrics\n",
    "electrics = Electrics()\n",
    "truck.sensors.attach('electrics', electrics)\n",
    "# create our scenario\n",
    "scenario = Scenario('west_coast_usa', 'vehicle_state')\n",
    "scenario.add_vehicle(truck, pos=(-717.121, 101, 118.675), rot_quat=angle_to_quat((0, 0, 45)))\n",
    "scenario.add_vehicle(trailer, pos=(-727.121, 101, 118.675), rot_quat=angle_to_quat((0,0,45)))\n",
    "scenario.make(beamng)"
   ]
  },
  {
   "cell_type": "markdown",
   "metadata": {},
   "source": [
    "## Run the scenario\n",
    "\n",
    "Very time consuming!"
   ]
  },
  {
   "cell_type": "code",
   "execution_count": 29,
   "metadata": {},
   "outputs": [],
   "source": [
    "beamng.scenario.load(scenario)\n",
    "beamng.scenario.start()  # After loading, the simulator waits for further input to actually start"
   ]
  },
  {
   "cell_type": "markdown",
   "metadata": {},
   "source": [
    "# Couple the vehicles"
   ]
  },
  {
   "cell_type": "code",
   "execution_count": 34,
   "metadata": {},
   "outputs": [
    {
     "ename": "ConnectionRefusedError",
     "evalue": "[WinError 10061] No connection could be made because the target machine actively refused it",
     "output_type": "error",
     "traceback": [
      "\u001b[1;31m---------------------------------------------------------------------------\u001b[0m",
      "\u001b[1;31mOSError\u001b[0m                                   Traceback (most recent call last)",
      "File \u001b[1;32mc:\\Users\\coleb\\anaconda3\\Lib\\site-packages\\beamngpy\\connection\\connection.py:197\u001b[0m, in \u001b[0;36mConnection.send\u001b[1;34m(self, data)\u001b[0m\n\u001b[0;32m    195\u001b[0m \u001b[38;5;28;01mtry\u001b[39;00m:\n\u001b[0;32m    196\u001b[0m     \u001b[38;5;66;03m# First, attempt to send over the current socket stored in this Connection instance.\u001b[39;00m\n\u001b[1;32m--> 197\u001b[0m     \u001b[38;5;28mself\u001b[39m\u001b[38;5;241m.\u001b[39mskt\u001b[38;5;241m.\u001b[39msend(packed_data)\n\u001b[0;32m    198\u001b[0m \u001b[38;5;28;01mexcept\u001b[39;00m socket\u001b[38;5;241m.\u001b[39merror:\n",
      "File \u001b[1;32mc:\\Users\\coleb\\anaconda3\\Lib\\site-packages\\beamngpy\\connection\\prefixed_length_socket.py:60\u001b[0m, in \u001b[0;36mPrefixedLengthSocket.send\u001b[1;34m(self, data)\u001b[0m\n\u001b[0;32m     59\u001b[0m data \u001b[38;5;241m=\u001b[39m length \u001b[38;5;241m+\u001b[39m data\n\u001b[1;32m---> 60\u001b[0m \u001b[38;5;28mself\u001b[39m\u001b[38;5;241m.\u001b[39mskt\u001b[38;5;241m.\u001b[39msendall(data)\n",
      "\u001b[1;31mOSError\u001b[0m: [WinError 10057] A request to send or receive data was disallowed because the socket is not connected and (when sending on a datagram socket using a sendto call) no address was supplied",
      "\nDuring handling of the above exception, another exception occurred:\n",
      "\u001b[1;31mConnectionRefusedError\u001b[0m                    Traceback (most recent call last)",
      "Cell \u001b[1;32mIn[34], line 1\u001b[0m\n\u001b[1;32m----> 1\u001b[0m truck\u001b[38;5;241m.\u001b[39mqueue_lua_command(\u001b[38;5;124m'\u001b[39m\u001b[38;5;124mbeamstate.toggleCouplers(\u001b[39m\u001b[38;5;130;01m\\'\u001b[39;00m\u001b[38;5;124mtow_hitch\u001b[39m\u001b[38;5;130;01m\\'\u001b[39;00m\u001b[38;5;124m)\u001b[39m\u001b[38;5;124m'\u001b[39m)\n\u001b[0;32m      3\u001b[0m truck\u001b[38;5;241m.\u001b[39mqueue_lua_command(\u001b[38;5;124m'\u001b[39m\u001b[38;5;124mbeamstate.toggleCouplers( [\u001b[39m\u001b[38;5;124m\"\u001b[39m\u001b[38;5;124mtw\u001b[39m\u001b[38;5;124m\"\u001b[39m\u001b[38;5;124m, 0.0, 2.76, 0.58,\u001b[39m\u001b[38;5;124m{\u001b[39m\u001b[38;5;124m\"\u001b[39m\u001b[38;5;124mcouplerTag\u001b[39m\u001b[38;5;124m\"\u001b[39m\u001b[38;5;124m:\u001b[39m\u001b[38;5;124m\"\u001b[39m\u001b[38;5;124mtow_hitch\u001b[39m\u001b[38;5;124m\"\u001b[39m\u001b[38;5;124m,\u001b[39m\u001b[38;5;124m\"\u001b[39m\u001b[38;5;124mcouplerStrength\u001b[39m\u001b[38;5;124m\"\u001b[39m\u001b[38;5;124m:2001000,\u001b[39m\u001b[38;5;124m\"\u001b[39m\u001b[38;5;124mcouplerRadius\u001b[39m\u001b[38;5;124m\"\u001b[39m\u001b[38;5;124m:1}] )\u001b[39m\u001b[38;5;124m'\u001b[39m)\n",
      "File \u001b[1;32mc:\\Users\\coleb\\anaconda3\\Lib\\site-packages\\beamngpy\\vehicle\\vehicle.py:378\u001b[0m, in \u001b[0;36mVehicle.queue_lua_command\u001b[1;34m(self, chunk)\u001b[0m\n\u001b[0;32m    371\u001b[0m \u001b[38;5;28;01mdef\u001b[39;00m \u001b[38;5;21mqueue_lua_command\u001b[39m(\u001b[38;5;28mself\u001b[39m, chunk: \u001b[38;5;28mstr\u001b[39m) \u001b[38;5;241m-\u001b[39m\u001b[38;5;241m>\u001b[39m \u001b[38;5;28;01mNone\u001b[39;00m:\n\u001b[0;32m    372\u001b[0m \u001b[38;5;250m    \u001b[39m\u001b[38;5;124;03m\"\"\"\u001b[39;00m\n\u001b[0;32m    373\u001b[0m \u001b[38;5;124;03m    Executes a chunk of Lua code in the vehicle engine VM.\u001b[39;00m\n\u001b[0;32m    374\u001b[0m \n\u001b[0;32m    375\u001b[0m \u001b[38;5;124;03m    Args:\u001b[39;00m\n\u001b[0;32m    376\u001b[0m \u001b[38;5;124;03m        chunk: chunk of Lua code as a string\u001b[39;00m\n\u001b[0;32m    377\u001b[0m \u001b[38;5;124;03m    \"\"\"\u001b[39;00m\n\u001b[1;32m--> 378\u001b[0m     \u001b[38;5;28;01mreturn\u001b[39;00m \u001b[38;5;28mself\u001b[39m\u001b[38;5;241m.\u001b[39m_root\u001b[38;5;241m.\u001b[39mqueue_lua_command(chunk)\n",
      "File \u001b[1;32mc:\\Users\\coleb\\anaconda3\\Lib\\site-packages\\beamngpy\\api\\vehicle\\root.py:124\u001b[0m, in \u001b[0;36mRootApi.queue_lua_command\u001b[1;34m(self, chunk)\u001b[0m\n\u001b[0;32m    122\u001b[0m data \u001b[38;5;241m=\u001b[39m \u001b[38;5;28mdict\u001b[39m(\u001b[38;5;28mtype\u001b[39m\u001b[38;5;241m=\u001b[39m\u001b[38;5;124m'\u001b[39m\u001b[38;5;124mQueueLuaCommandVE\u001b[39m\u001b[38;5;124m'\u001b[39m)\n\u001b[0;32m    123\u001b[0m data[\u001b[38;5;124m'\u001b[39m\u001b[38;5;124mchunk\u001b[39m\u001b[38;5;124m'\u001b[39m] \u001b[38;5;241m=\u001b[39m chunk\n\u001b[1;32m--> 124\u001b[0m \u001b[38;5;28mself\u001b[39m\u001b[38;5;241m.\u001b[39m_send(data)\u001b[38;5;241m.\u001b[39mack(\u001b[38;5;124m'\u001b[39m\u001b[38;5;124mExecutedLuaChunkVE\u001b[39m\u001b[38;5;124m'\u001b[39m)\n",
      "File \u001b[1;32mc:\\Users\\coleb\\anaconda3\\Lib\\site-packages\\beamngpy\\vehicle\\vehicle.py:197\u001b[0m, in \u001b[0;36mVehicle._send\u001b[1;34m(self, data)\u001b[0m\n\u001b[0;32m    195\u001b[0m \u001b[38;5;28;01mif\u001b[39;00m \u001b[38;5;129;01mnot\u001b[39;00m \u001b[38;5;28mself\u001b[39m\u001b[38;5;241m.\u001b[39mconnection:\n\u001b[0;32m    196\u001b[0m     \u001b[38;5;28;01mraise\u001b[39;00m BNGError(\u001b[38;5;124m'\u001b[39m\u001b[38;5;124mNot connected to the vehicle!\u001b[39m\u001b[38;5;124m'\u001b[39m)\n\u001b[1;32m--> 197\u001b[0m \u001b[38;5;28;01mreturn\u001b[39;00m \u001b[38;5;28mself\u001b[39m\u001b[38;5;241m.\u001b[39mconnection\u001b[38;5;241m.\u001b[39msend(data)\n",
      "File \u001b[1;32mc:\\Users\\coleb\\anaconda3\\Lib\\site-packages\\beamngpy\\connection\\connection.py:199\u001b[0m, in \u001b[0;36mConnection.send\u001b[1;34m(self, data)\u001b[0m\n\u001b[0;32m    197\u001b[0m     \u001b[38;5;28mself\u001b[39m\u001b[38;5;241m.\u001b[39mskt\u001b[38;5;241m.\u001b[39msend(packed_data)\n\u001b[0;32m    198\u001b[0m \u001b[38;5;28;01mexcept\u001b[39;00m socket\u001b[38;5;241m.\u001b[39merror:\n\u001b[1;32m--> 199\u001b[0m     \u001b[38;5;28mself\u001b[39m\u001b[38;5;241m.\u001b[39mskt\u001b[38;5;241m.\u001b[39mreconnect()  \u001b[38;5;66;03m# If the send has failed, we attempt to re-connect then we send again.\u001b[39;00m\n\u001b[0;32m    200\u001b[0m     \u001b[38;5;28mself\u001b[39m\u001b[38;5;241m.\u001b[39mskt\u001b[38;5;241m.\u001b[39msend(packed_data)\n\u001b[0;32m    201\u001b[0m \u001b[38;5;28;01mreturn\u001b[39;00m Response(\u001b[38;5;28mself\u001b[39m, req_id)\n",
      "File \u001b[1;32mc:\\Users\\coleb\\anaconda3\\Lib\\site-packages\\beamngpy\\connection\\prefixed_length_socket.py:82\u001b[0m, in \u001b[0;36mPrefixedLengthSocket.reconnect\u001b[1;34m(self)\u001b[0m\n\u001b[0;32m     80\u001b[0m \u001b[38;5;28;01mwhile\u001b[39;00m tries \u001b[38;5;241m>\u001b[39m \u001b[38;5;241m0\u001b[39m:\n\u001b[0;32m     81\u001b[0m     \u001b[38;5;28;01mtry\u001b[39;00m:\n\u001b[1;32m---> 82\u001b[0m         \u001b[38;5;28mself\u001b[39m\u001b[38;5;241m.\u001b[39mskt\u001b[38;5;241m.\u001b[39mconnect((\u001b[38;5;28mself\u001b[39m\u001b[38;5;241m.\u001b[39mhost, \u001b[38;5;28mself\u001b[39m\u001b[38;5;241m.\u001b[39mport))\n\u001b[0;32m     83\u001b[0m         \u001b[38;5;28;01mbreak\u001b[39;00m\n\u001b[0;32m     84\u001b[0m     \u001b[38;5;28;01mexcept\u001b[39;00m (\u001b[38;5;167;01mConnectionRefusedError\u001b[39;00m, \u001b[38;5;167;01mConnectionAbortedError\u001b[39;00m):\n",
      "\u001b[1;31mConnectionRefusedError\u001b[0m: [WinError 10061] No connection could be made because the target machine actively refused it"
     ]
    }
   ],
   "source": [
    "truck.queue_lua_command('beamstate.toggleCouplers(\\'tow_hitch\\')')\n",
    "\n",
    "#truck.queue_lua_command('beamstate.toggleCouplers( [\"tw\", 0.0, 2.76, 0.58,{\"couplerTag\":\"tow_hitch\",\"couplerStrength\":2001000,\"couplerRadius\":1}] )')\n"
   ]
  },
  {
   "cell_type": "markdown",
   "metadata": {},
   "source": [
    "# Drive the truck forward, then initiate sway"
   ]
  },
  {
   "cell_type": "code",
   "execution_count": null,
   "metadata": {},
   "outputs": [],
   "source": []
  }
 ],
 "metadata": {
  "kernelspec": {
   "display_name": "base",
   "language": "python",
   "name": "python3"
  },
  "language_info": {
   "codemirror_mode": {
    "name": "ipython",
    "version": 3
   },
   "file_extension": ".py",
   "mimetype": "text/x-python",
   "name": "python",
   "nbconvert_exporter": "python",
   "pygments_lexer": "ipython3",
   "version": "3.11.4"
  }
 },
 "nbformat": 4,
 "nbformat_minor": 2
}
