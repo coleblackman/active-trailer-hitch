{
 "cells": [
  {
   "cell_type": "markdown",
   "metadata": {},
   "source": [
    "# Truck/Trailer Simulation in BeamNG\n",
    "\n",
    "## Cole Blackman"
   ]
  },
  {
   "cell_type": "markdown",
   "metadata": {},
   "source": [
    "## Setup"
   ]
  },
  {
   "cell_type": "code",
   "execution_count": 4,
   "metadata": {},
   "outputs": [
    {
     "name": "stderr",
     "output_type": "stream",
     "text": [
      "WARNING: pip is being invoked by an old script wrapper. This will fail in a future version of pip.\n",
      "Please see https://github.com/pypa/pip/issues/5599 for advice on fixing the underlying issue.\n",
      "To avoid this problem you can invoke Python with '-m pip' instead of running pip directly.\n"
     ]
    },
    {
     "data": {
      "text/html": [
       "<pre style=\"white-space:pre;overflow-x:auto;line-height:normal;font-family:Menlo,'DejaVu Sans Mono',consolas,'Courier New',monospace\">Requirement already satisfied: argh in c:\\users\\student\\appdata\\local\\programs\\python\\python310\\lib\\site-packages (0.31.2)\n",
       "</pre>\n"
      ],
      "text/plain": [
       "Requirement already satisfied: argh in c:\\users\\student\\appdata\\local\\programs\\python\\python310\\lib\\site-packages (0.31.2)\n"
      ]
     },
     "metadata": {},
     "output_type": "display_data"
    },
    {
     "data": {
      "text/html": [
       "<pre style=\"white-space:pre;overflow-x:auto;line-height:normal;font-family:Menlo,'DejaVu Sans Mono',consolas,'Courier New',monospace\">\n",
       "<span style=\"font-weight: bold\">[</span><span style=\"color: #000080; text-decoration-color: #000080; background-color: #ffffff\">notice</span><span style=\"color: #000000; text-decoration-color: #000000; background-color: #ffffff; font-weight: bold\">]</span><span style=\"color: #000000; text-decoration-color: #000000; background-color: #ffffff\"> A new release of pip available: </span><span style=\"color: #800000; text-decoration-color: #800000; background-color: #ffffff\">22.2.2</span><span style=\"color: #000000; text-decoration-color: #000000; background-color: #ffffff\"> -&gt; </span><span style=\"color: #008000; text-decoration-color: #008000; background-color: #ffffff\">24.0</span>\n",
       "<span style=\"font-weight: bold\">[</span><span style=\"color: #000080; text-decoration-color: #000080; background-color: #ffffff\">notice</span><span style=\"color: #000000; text-decoration-color: #000000; background-color: #ffffff; font-weight: bold\">]</span><span style=\"color: #000000; text-decoration-color: #000000; background-color: #ffffff\"> To update, run: </span><span style=\"color: #008000; text-decoration-color: #008000; background-color: #ffffff\">python.exe -m pip install --upgrade pip</span>\n",
       "</pre>\n"
      ],
      "text/plain": [
       "\n",
       "\u001b[1m[\u001b[0m\u001b[34;49mnotice\u001b[0m\u001b[1;39;49m]\u001b[0m\u001b[39;49m A new release of pip available: \u001b[0m\u001b[31;49m22.2.2\u001b[0m\u001b[39;49m -> \u001b[0m\u001b[32;49m24.0\u001b[0m\n",
       "\u001b[1m[\u001b[0m\u001b[34;49mnotice\u001b[0m\u001b[1;39;49m]\u001b[0m\u001b[39;49m To update, run: \u001b[0m\u001b[32;49mpython.exe -m pip install --upgrade pip\u001b[0m\n"
      ]
     },
     "metadata": {},
     "output_type": "display_data"
    }
   ],
   "source": [
    "import subprocess\n",
    "import sys\n",
    "\n",
    "import pip\n",
    "\n",
    "def install(package):\n",
    "    if hasattr(pip, 'main'):\n",
    "        pip.main(['install', package])\n",
    "    else:\n",
    "        pip._internal.main(['install', package])\n",
    "\n",
    "# Example\n",
    "if __name__ == '__main__':\n",
    "    install('argh')\n",
    "# install('matlibplot')\n",
    "# install('seaborn')\n",
    "# install('beamngpy')\n",
    "%matplotlib inline\n",
    "import time\n",
    "import matplotlib.pyplot as plt\n",
    "import numpy as np \n",
    "import seaborn as sns\n",
    "from beamngpy import BeamNGpy, Scenario, Vehicle, angle_to_quat\n",
    "from beamngpy.sensors import Electrics\n",
    "sns.set() "
   ]
  },
  {
   "cell_type": "markdown",
   "metadata": {},
   "source": [
    "## Generate scenario\n",
    "\n",
    "Only need to load beamng.tech and verify the license key once! Meshes must be loaded iteratively"
   ]
  },
  {
   "cell_type": "code",
   "execution_count": 5,
   "metadata": {},
   "outputs": [
    {
     "data": {
      "text/html": [
       "<pre style=\"white-space:pre;overflow-x:auto;line-height:normal;font-family:Menlo,'DejaVu Sans Mono',consolas,'Courier New',monospace\">Opening BeamNGpy instance.\n",
       "</pre>\n"
      ],
      "text/plain": [
       "Opening BeamNGpy instance.\n"
      ]
     },
     "metadata": {},
     "output_type": "display_data"
    },
    {
     "data": {
      "text/html": [
       "<pre style=\"white-space:pre;overflow-x:auto;line-height:normal;font-family:Menlo,'DejaVu Sans Mono',consolas,'Courier New',monospace\">Started BeamNG.\n",
       "</pre>\n"
      ],
      "text/plain": [
       "Started BeamNG.\n"
      ]
     },
     "metadata": {},
     "output_type": "display_data"
    },
    {
     "data": {
      "text/html": [
       "<pre style=\"white-space:pre;overflow-x:auto;line-height:normal;font-family:Menlo,'DejaVu Sans Mono',consolas,'Courier New',monospace\">Connecting to BeamNG.tech at: (localhost, 64256)\n",
       "</pre>\n"
      ],
      "text/plain": [
       "Connecting to BeamNG.tech at: (localhost, 64256)\n"
      ]
     },
     "metadata": {},
     "output_type": "display_data"
    },
    {
     "data": {
      "text/html": [
       "<pre style=\"white-space:pre;overflow-x:auto;line-height:normal;font-family:Menlo,'DejaVu Sans Mono',consolas,'Courier New',monospace\">Successfully connected to BeamNG.tech.\n",
       "</pre>\n"
      ],
      "text/plain": [
       "Successfully connected to BeamNG.tech.\n"
      ]
     },
     "metadata": {},
     "output_type": "display_data"
    },
    {
     "data": {
      "text/html": [
       "<pre style=\"white-space:pre;overflow-x:auto;line-height:normal;font-family:Menlo,'DejaVu Sans Mono',consolas,'Courier New',monospace\">BeamNGpy successfully connected to BeamNG.\n",
       "</pre>\n"
      ],
      "text/plain": [
       "BeamNGpy successfully connected to BeamNG.\n"
      ]
     },
     "metadata": {},
     "output_type": "display_data"
    },
    {
     "name": "stdout",
     "output_type": "stream",
     "text": [
      "data: {'type': 'GetAvailableVehicles'}\n",
      "['atv', 'autobello', 'ball', 'barrels', 'barrier', 'barrier_plastic', 'barstow', 'bastion', 'blockwall', 'bluebuck', 'bolide', 'bollard', 'boxutility', 'boxutility_large', 'burnside', 'cannon', 'caravan', 'cardboard_box', 'cargotrailer', 'chair', 'christmas_tree', 'citybus', 'cones', 'containerTrailer', 'couch', 'coupe', 'covet', 'delineator', 'dolly', 'dryvan', 'engine_props', 'etk800', 'etkc', 'etki', 'flail', 'flatbed', 'flipramp', 'frameless_dump', 'fridge', 'fullsize', 'gate', 'haybale', 'hopper', 'inflated_mat', 'kickplate', 'lansdale', 'large_angletester', 'large_bridge', 'large_cannon', 'large_crusher', 'large_hamster_wheel', 'large_roller', 'large_spinner', 'large_tilt', 'large_tire', 'legran', 'mattress', 'metal_box', 'metal_ramp', 'midsize', 'midtruck', 'miramar', 'moonhawk', 'pessima', 'piano', 'pickup', 'pigeon', 'porta_potty', 'racetruck', 'roadsigns', 'roamer', 'rockbouncer', 'rocks', 'rollover', 'sawhorse', 'sbr', 'scintilla', 'shipping_container', 'streetlight', 'sunburst', 'suspensionbridge', 'tanker', 'testroller', 'tiltdeck', 'tirestacks', 'tirewall', 'trafficbarrel', 'tsfb', 'tub', 'tube', 'tv', 'unicycle', 'us_semi', 'utv', 'van', 'vivace', 'wall', 'weightpad', 'wendover', 'wigeon', 'woodcrate', 'woodplanks']\n",
      "['Cliff', 'Industrial', 'Utah', 'automation_test_track', 'autotest', 'derby', 'driver_training', 'east_coast_usa', 'garage_v2', 'glow_city', 'gridmap_v2', 'hirochi_raceway', 'italy', 'johnson_valley', 'jungle_rock_island', 'showroom_v2', 'small_island', 'smallgrid', 'template', 'template_tech', 'west_coast_usa']\n"
     ]
    }
   ],
   "source": [
    "beamng = BeamNGpy('localhost', 64256, './BeamNG.tech.v0.31.3.0/BeamNG.tech.v0.31.3.0', 'C:/Users/Student/AppData/Local/BeamNG.drive/BeamNG.tech.v0.31.3.0/BeamNG.tech.v0.31.3.0/Bin64/BeamNG.tech.x64.exe', \"/Users/Student/AppData/Local/BeamNG.drive\")\n",
    "beamng.open()\n",
    "vehicles = beamng.vehicles.get_available()['vehicles']\n",
    "print(list(sorted(vehicles.keys())))\n",
    "\n",
    "scenarios = beamng.scenario.get_levels()\n",
    "print(list(sorted(scenarios.keys())))\n",
    "# add a truck\n",
    "truck = Vehicle('ego', model='pickup', license='TRACTOR', color='Green')\n",
    "trailer = Vehicle('trailer', model='cargotrailer')\n",
    "# add a sensor to the truck using Electrics\n",
    "electrics = Electrics()\n",
    "truck.sensors.attach('electrics', electrics)\n",
    "# create our scenario\n",
    "scenario = Scenario('west_coast_usa', 'vehicle_state')\n",
    "scenario.add_vehicle(truck, pos=(-727.121, 101, 118.675), rot_quat=angle_to_quat((0, 0, 45)))\n",
    "scenario.add_vehicle(trailer, pos=(-719.121, 101, 118.675), rot_quat=angle_to_quat((0,0,45)))\n",
    "scenario.make(beamng)\n"
   ]
  },
  {
   "cell_type": "markdown",
   "metadata": {},
   "source": [
    "## Run the scenario\n",
    "\n",
    "Very time consuming!"
   ]
  },
  {
   "cell_type": "code",
   "execution_count": 6,
   "metadata": {},
   "outputs": [
    {
     "data": {
      "text/html": [
       "<pre style=\"white-space:pre;overflow-x:auto;line-height:normal;font-family:Menlo,'DejaVu Sans Mono',consolas,'Courier New',monospace\">Loaded map.\n",
       "</pre>\n"
      ],
      "text/plain": [
       "Loaded map.\n"
      ]
     },
     "metadata": {},
     "output_type": "display_data"
    },
    {
     "data": {
      "text/html": [
       "<pre style=\"white-space:pre;overflow-x:auto;line-height:normal;font-family:Menlo,'DejaVu Sans Mono',consolas,'Courier New',monospace\">Vehicle trailer connected to simulation.\n",
       "</pre>\n"
      ],
      "text/plain": [
       "Vehicle trailer connected to simulation.\n"
      ]
     },
     "metadata": {},
     "output_type": "display_data"
    },
    {
     "data": {
      "text/html": [
       "<pre style=\"white-space:pre;overflow-x:auto;line-height:normal;font-family:Menlo,'DejaVu Sans Mono',consolas,'Courier New',monospace\">Attempting to connect to vehicle trailer\n",
       "</pre>\n"
      ],
      "text/plain": [
       "Attempting to connect to vehicle trailer\n"
      ]
     },
     "metadata": {},
     "output_type": "display_data"
    },
    {
     "data": {
      "text/html": [
       "<pre style=\"white-space:pre;overflow-x:auto;line-height:normal;font-family:Menlo,'DejaVu Sans Mono',consolas,'Courier New',monospace\">Successfully connected to BeamNG.tech.\n",
       "</pre>\n"
      ],
      "text/plain": [
       "Successfully connected to BeamNG.tech.\n"
      ]
     },
     "metadata": {},
     "output_type": "display_data"
    },
    {
     "data": {
      "text/html": [
       "<pre style=\"white-space:pre;overflow-x:auto;line-height:normal;font-family:Menlo,'DejaVu Sans Mono',consolas,'Courier New',monospace\">Successfully connected to vehicle trailer.\n",
       "</pre>\n"
      ],
      "text/plain": [
       "Successfully connected to vehicle trailer.\n"
      ]
     },
     "metadata": {},
     "output_type": "display_data"
    },
    {
     "data": {
      "text/html": [
       "<pre style=\"white-space:pre;overflow-x:auto;line-height:normal;font-family:Menlo,'DejaVu Sans Mono',consolas,'Courier New',monospace\">Vehicle ego connected to simulation.\n",
       "</pre>\n"
      ],
      "text/plain": [
       "Vehicle ego connected to simulation.\n"
      ]
     },
     "metadata": {},
     "output_type": "display_data"
    },
    {
     "data": {
      "text/html": [
       "<pre style=\"white-space:pre;overflow-x:auto;line-height:normal;font-family:Menlo,'DejaVu Sans Mono',consolas,'Courier New',monospace\">Attempting to connect to vehicle ego\n",
       "</pre>\n"
      ],
      "text/plain": [
       "Attempting to connect to vehicle ego\n"
      ]
     },
     "metadata": {},
     "output_type": "display_data"
    },
    {
     "data": {
      "text/html": [
       "<pre style=\"white-space:pre;overflow-x:auto;line-height:normal;font-family:Menlo,'DejaVu Sans Mono',consolas,'Courier New',monospace\">Successfully connected to BeamNG.tech.\n",
       "</pre>\n"
      ],
      "text/plain": [
       "Successfully connected to BeamNG.tech.\n"
      ]
     },
     "metadata": {},
     "output_type": "display_data"
    },
    {
     "data": {
      "text/html": [
       "<pre style=\"white-space:pre;overflow-x:auto;line-height:normal;font-family:Menlo,'DejaVu Sans Mono',consolas,'Courier New',monospace\">Successfully connected to vehicle ego.\n",
       "</pre>\n"
      ],
      "text/plain": [
       "Successfully connected to vehicle ego.\n"
      ]
     },
     "metadata": {},
     "output_type": "display_data"
    },
    {
     "data": {
      "text/html": [
       "<pre style=\"white-space:pre;overflow-x:auto;line-height:normal;font-family:Menlo,'DejaVu Sans Mono',consolas,'Courier New',monospace\">Connected to scenario: vehicle_state\n",
       "</pre>\n"
      ],
      "text/plain": [
       "Connected to scenario: vehicle_state\n"
      ]
     },
     "metadata": {},
     "output_type": "display_data"
    },
    {
     "name": "stdout",
     "output_type": "stream",
     "text": [
      "loaded scenario\n",
      "about to start\n"
     ]
    },
    {
     "data": {
      "text/html": [
       "<pre style=\"white-space:pre;overflow-x:auto;line-height:normal;font-family:Menlo,'DejaVu Sans Mono',consolas,'Courier New',monospace\">Starting scenario.\n",
       "</pre>\n"
      ],
      "text/plain": [
       "Starting scenario.\n"
      ]
     },
     "metadata": {},
     "output_type": "display_data"
    },
    {
     "name": "stdout",
     "output_type": "stream",
     "text": [
      "just started\n"
     ]
    }
   ],
   "source": [
    "beamng.scenario.load(scenario)\n",
    "print(\"loaded scenario\")\n",
    "print(\"about to start\")\n",
    "beamng.scenario.start()  # After loading, the simulator waits for further input to actually start\n",
    "print(\"just started\")"
   ]
  },
  {
   "cell_type": "markdown",
   "metadata": {},
   "source": [
    "# Couple the vehicles"
   ]
  },
  {
   "cell_type": "code",
   "execution_count": 7,
   "metadata": {},
   "outputs": [
    {
     "name": "stdout",
     "output_type": "stream",
     "text": [
      "coupled the vehicle\n"
     ]
    }
   ],
   "source": [
    "truck.queue_lua_command('beamstate.toggleCouplers(\\'tow_hitch\\')')\n",
    "print(\"coupled the vehicle\")\n",
    "#truck.queue_lua_command('beamstate.toggleCouplers( [\"tw\", 0.0, 2.76, 0.58,{\"couplerTag\":\"tow_hitch\",\"couplerStrength\":2001000,\"couplerRadius\":1}] )')\n"
   ]
  },
  {
   "cell_type": "markdown",
   "metadata": {},
   "source": [
    "# Drive the truck forward, then initiate sway"
   ]
  },
  {
   "cell_type": "code",
   "execution_count": null,
   "metadata": {},
   "outputs": [],
   "source": []
  }
 ],
 "metadata": {
  "kernelspec": {
   "display_name": "base",
   "language": "python",
   "name": "python3"
  },
  "language_info": {
   "codemirror_mode": {
    "name": "ipython",
    "version": 3
   },
   "file_extension": ".py",
   "mimetype": "text/x-python",
   "name": "python",
   "nbconvert_exporter": "python",
   "pygments_lexer": "ipython3",
   "version": "3.10.7"
  }
 },
 "nbformat": 4,
 "nbformat_minor": 2
}
